{
 "cells": [
  {
   "cell_type": "markdown",
   "metadata": {},
   "source": [
    "# Tutorial 4 - Propagação de Funções & Transformações "
   ]
  },
  {
   "cell_type": "markdown",
   "metadata": {},
   "source": [
    "___"
   ]
  },
  {
   "cell_type": "markdown",
   "metadata": {},
   "source": [
    "# Imports para a Aula"
   ]
  },
  {
   "cell_type": "code",
   "execution_count": 1,
   "metadata": {},
   "outputs": [],
   "source": [
    "import numpy as np\n",
    "import os\n",
    "import pandas as pd"
   ]
  },
  {
   "cell_type": "markdown",
   "metadata": {},
   "source": [
    "# Propagação de Funções"
   ]
  },
  {
   "cell_type": "markdown",
   "metadata": {},
   "source": [
    "## Series"
   ]
  },
  {
   "cell_type": "markdown",
   "metadata": {},
   "source": [
    "### Variável de Teste"
   ]
  },
  {
   "cell_type": "code",
   "execution_count": 2,
   "metadata": {},
   "outputs": [
    {
     "data": {
      "text/plain": [
       "Leite      2\n",
       "Ovos      12\n",
       "Carne      1\n",
       "Arroz      5\n",
       "Feijão     2\n",
       "Name: Compras, dtype: int64"
      ]
     },
     "execution_count": 2,
     "metadata": {},
     "output_type": "execute_result"
    }
   ],
   "source": [
    "\"\"\" Série a ser transformada\"\"\"\n",
    "s = pd.Series(\n",
    "    name=\"Compras\",\n",
    "    index=[\"Leite\", \"Ovos\", \"Carne\", \"Arroz\", \"Feijão\"],  \n",
    "    data=[2, 12, 1, 5, 2]\n",
    ")\n",
    "s"
   ]
  },
  {
   "cell_type": "markdown",
   "metadata": {},
   "source": [
    "### Elemento a elemento"
   ]
  },
  {
   "cell_type": "code",
   "execution_count": 7,
   "metadata": {},
   "outputs": [],
   "source": [
    "\"\"\" Função de Transformação \"\"\"\n",
    "def fn(x):\n",
    "    return x ** 2 + x - 100"
   ]
  },
  {
   "cell_type": "code",
   "execution_count": 8,
   "metadata": {},
   "outputs": [
    {
     "data": {
      "text/plain": [
       "Leite    -94\n",
       "Ovos      56\n",
       "Carne    -98\n",
       "Arroz    -70\n",
       "Feijão   -94\n",
       "Name: Compras, dtype: int64"
      ]
     },
     "execution_count": 8,
     "metadata": {},
     "output_type": "execute_result"
    }
   ],
   "source": [
    "\"\"\" Transformação elemento a elemento \"\"\"\n",
    "s.map(fn)"
   ]
  },
  {
   "cell_type": "markdown",
   "metadata": {},
   "source": [
    "## DataFrame"
   ]
  },
  {
   "cell_type": "markdown",
   "metadata": {},
   "source": [
    "### Variável de Teste"
   ]
  },
  {
   "cell_type": "code",
   "execution_count": 10,
   "metadata": {},
   "outputs": [
    {
     "data": {
      "text/html": [
       "<div>\n",
       "<style scoped>\n",
       "    .dataframe tbody tr th:only-of-type {\n",
       "        vertical-align: middle;\n",
       "    }\n",
       "\n",
       "    .dataframe tbody tr th {\n",
       "        vertical-align: top;\n",
       "    }\n",
       "\n",
       "    .dataframe thead th {\n",
       "        text-align: right;\n",
       "    }\n",
       "</style>\n",
       "<table border=\"1\" class=\"dataframe\">\n",
       "  <thead>\n",
       "    <tr style=\"text-align: right;\">\n",
       "      <th></th>\n",
       "      <th>Quantidade</th>\n",
       "      <th>Preço Unitário</th>\n",
       "    </tr>\n",
       "    <tr>\n",
       "      <th>Itens</th>\n",
       "      <th></th>\n",
       "      <th></th>\n",
       "    </tr>\n",
       "  </thead>\n",
       "  <tbody>\n",
       "    <tr>\n",
       "      <th>Leite</th>\n",
       "      <td>4.0</td>\n",
       "      <td>3.0</td>\n",
       "    </tr>\n",
       "    <tr>\n",
       "      <th>Ovos</th>\n",
       "      <td>3.0</td>\n",
       "      <td>6.5</td>\n",
       "    </tr>\n",
       "    <tr>\n",
       "      <th>Carne</th>\n",
       "      <td>1.0</td>\n",
       "      <td>25.9</td>\n",
       "    </tr>\n",
       "    <tr>\n",
       "      <th>Arroz</th>\n",
       "      <td>5.0</td>\n",
       "      <td>5.0</td>\n",
       "    </tr>\n",
       "    <tr>\n",
       "      <th>Feijão</th>\n",
       "      <td>2.0</td>\n",
       "      <td>3.8</td>\n",
       "    </tr>\n",
       "  </tbody>\n",
       "</table>\n",
       "</div>"
      ],
      "text/plain": [
       "        Quantidade  Preço Unitário\n",
       "Itens                             \n",
       "Leite          4.0             3.0\n",
       "Ovos           3.0             6.5\n",
       "Carne          1.0            25.9\n",
       "Arroz          5.0             5.0\n",
       "Feijão         2.0             3.8"
      ]
     },
     "execution_count": 10,
     "metadata": {},
     "output_type": "execute_result"
    }
   ],
   "source": [
    "\"\"\" DataFrame a ser transformado\"\"\"\n",
    "df = pd.DataFrame(\n",
    "    index=pd.Index(data=[\"Leite\", \"Ovos\", \"Carne\", \"Arroz\", \"Feijão\"], name=\"Itens\"),\n",
    "    columns=[\"Quantidade\",  \"Preço Unitário\"],\n",
    "    data=np.array([\n",
    "        [4, 3, 1, 5, 2],\n",
    "        [3.00, 6.50, 25.90, 5.00, 3.80]\n",
    "    ]).T,\n",
    ")\n",
    "df"
   ]
  },
  {
   "cell_type": "markdown",
   "metadata": {},
   "source": [
    "### Elemento a elemento"
   ]
  },
  {
   "cell_type": "code",
   "execution_count": 15,
   "metadata": {},
   "outputs": [],
   "source": [
    "\"\"\" Função de Transformação \"\"\"\n",
    "def fn(x):\n",
    "    return x ** 3 / 100"
   ]
  },
  {
   "cell_type": "code",
   "execution_count": 16,
   "metadata": {},
   "outputs": [
    {
     "data": {
      "text/html": [
       "<div>\n",
       "<style scoped>\n",
       "    .dataframe tbody tr th:only-of-type {\n",
       "        vertical-align: middle;\n",
       "    }\n",
       "\n",
       "    .dataframe tbody tr th {\n",
       "        vertical-align: top;\n",
       "    }\n",
       "\n",
       "    .dataframe thead th {\n",
       "        text-align: right;\n",
       "    }\n",
       "</style>\n",
       "<table border=\"1\" class=\"dataframe\">\n",
       "  <thead>\n",
       "    <tr style=\"text-align: right;\">\n",
       "      <th></th>\n",
       "      <th>Quantidade</th>\n",
       "      <th>Preço Unitário</th>\n",
       "    </tr>\n",
       "    <tr>\n",
       "      <th>Itens</th>\n",
       "      <th></th>\n",
       "      <th></th>\n",
       "    </tr>\n",
       "  </thead>\n",
       "  <tbody>\n",
       "    <tr>\n",
       "      <th>Leite</th>\n",
       "      <td>0.64</td>\n",
       "      <td>0.27000</td>\n",
       "    </tr>\n",
       "    <tr>\n",
       "      <th>Ovos</th>\n",
       "      <td>0.27</td>\n",
       "      <td>2.74625</td>\n",
       "    </tr>\n",
       "    <tr>\n",
       "      <th>Carne</th>\n",
       "      <td>0.01</td>\n",
       "      <td>173.73979</td>\n",
       "    </tr>\n",
       "    <tr>\n",
       "      <th>Arroz</th>\n",
       "      <td>1.25</td>\n",
       "      <td>1.25000</td>\n",
       "    </tr>\n",
       "    <tr>\n",
       "      <th>Feijão</th>\n",
       "      <td>0.08</td>\n",
       "      <td>0.54872</td>\n",
       "    </tr>\n",
       "  </tbody>\n",
       "</table>\n",
       "</div>"
      ],
      "text/plain": [
       "        Quantidade  Preço Unitário\n",
       "Itens                             \n",
       "Leite         0.64         0.27000\n",
       "Ovos          0.27         2.74625\n",
       "Carne         0.01       173.73979\n",
       "Arroz         1.25         1.25000\n",
       "Feijão        0.08         0.54872"
      ]
     },
     "execution_count": 16,
     "metadata": {},
     "output_type": "execute_result"
    }
   ],
   "source": [
    "\"\"\" Transformação elemento a elemento \"\"\"\n",
    "df.applymap(fn)"
   ]
  },
  {
   "cell_type": "markdown",
   "metadata": {},
   "source": [
    "### Linhas e Colunas\n",
    "\n",
    "daqui pra baixo n fiz"
   ]
  },
  {
   "cell_type": "code",
   "execution_count": 22,
   "metadata": {},
   "outputs": [],
   "source": [
    "\"\"\" Função de Transformação \"\"\"\n",
    "def fn(x):\n",
    "    return x.product()"
   ]
  },
  {
   "cell_type": "code",
   "execution_count": 24,
   "metadata": {},
   "outputs": [
    {
     "data": {
      "text/plain": [
       "Quantidade         120.00\n",
       "Preço Unitário    9595.95\n",
       "dtype: float64"
      ]
     },
     "execution_count": 24,
     "metadata": {},
     "output_type": "execute_result"
    }
   ],
   "source": [
    "\"\"\" Transformação elemento a elemento \"\"\"\n",
    "df.apply(fn)"
   ]
  },
  {
   "cell_type": "code",
   "execution_count": 25,
   "metadata": {},
   "outputs": [
    {
     "data": {
      "text/plain": [
       "Itens\n",
       "Leite     12.0\n",
       "Ovos      19.5\n",
       "Carne     25.9\n",
       "Arroz     25.0\n",
       "Feijão     7.6\n",
       "dtype: float64"
      ]
     },
     "execution_count": 25,
     "metadata": {},
     "output_type": "execute_result"
    }
   ],
   "source": [
    "\"\"\" Transformação elemento a elemento \"\"\"\n",
    "df.apply(fn, axis=1)"
   ]
  },
  {
   "cell_type": "markdown",
   "metadata": {},
   "source": [
    "# Transformações "
   ]
  },
  {
   "cell_type": "markdown",
   "metadata": {},
   "source": [
    "## Variável de Teste "
   ]
  },
  {
   "cell_type": "code",
   "execution_count": 26,
   "metadata": {},
   "outputs": [
    {
     "data": {
      "text/html": [
       "<div>\n",
       "<style scoped>\n",
       "    .dataframe tbody tr th:only-of-type {\n",
       "        vertical-align: middle;\n",
       "    }\n",
       "\n",
       "    .dataframe tbody tr th {\n",
       "        vertical-align: top;\n",
       "    }\n",
       "\n",
       "    .dataframe thead th {\n",
       "        text-align: right;\n",
       "    }\n",
       "</style>\n",
       "<table border=\"1\" class=\"dataframe\">\n",
       "  <thead>\n",
       "    <tr style=\"text-align: right;\">\n",
       "      <th></th>\n",
       "      <th>user_id</th>\n",
       "      <th>store_name</th>\n",
       "      <th>product_name</th>\n",
       "    </tr>\n",
       "  </thead>\n",
       "  <tbody>\n",
       "    <tr>\n",
       "      <th>0</th>\n",
       "      <td>1</td>\n",
       "      <td>Pão de Açúcar</td>\n",
       "      <td>Leite</td>\n",
       "    </tr>\n",
       "    <tr>\n",
       "      <th>1</th>\n",
       "      <td>5</td>\n",
       "      <td>Pão de Açúcar</td>\n",
       "      <td>Leite</td>\n",
       "    </tr>\n",
       "    <tr>\n",
       "      <th>2</th>\n",
       "      <td>3</td>\n",
       "      <td>Dia</td>\n",
       "      <td>Leite</td>\n",
       "    </tr>\n",
       "    <tr>\n",
       "      <th>3</th>\n",
       "      <td>1</td>\n",
       "      <td>Dia</td>\n",
       "      <td>Leite</td>\n",
       "    </tr>\n",
       "    <tr>\n",
       "      <th>4</th>\n",
       "      <td>2</td>\n",
       "      <td>Extra</td>\n",
       "      <td>Leite</td>\n",
       "    </tr>\n",
       "    <tr>\n",
       "      <th>5</th>\n",
       "      <td>1</td>\n",
       "      <td>Pão de Açúcar</td>\n",
       "      <td>Arroz</td>\n",
       "    </tr>\n",
       "    <tr>\n",
       "      <th>6</th>\n",
       "      <td>2</td>\n",
       "      <td>Dia</td>\n",
       "      <td>Arroz</td>\n",
       "    </tr>\n",
       "    <tr>\n",
       "      <th>7</th>\n",
       "      <td>3</td>\n",
       "      <td>Dia</td>\n",
       "      <td>Arroz</td>\n",
       "    </tr>\n",
       "    <tr>\n",
       "      <th>8</th>\n",
       "      <td>4</td>\n",
       "      <td>Dia</td>\n",
       "      <td>Arroz</td>\n",
       "    </tr>\n",
       "    <tr>\n",
       "      <th>9</th>\n",
       "      <td>1</td>\n",
       "      <td>Extra</td>\n",
       "      <td>Arroz</td>\n",
       "    </tr>\n",
       "    <tr>\n",
       "      <th>10</th>\n",
       "      <td>5</td>\n",
       "      <td>Pão de Açúcar</td>\n",
       "      <td>Feijão</td>\n",
       "    </tr>\n",
       "    <tr>\n",
       "      <th>11</th>\n",
       "      <td>4</td>\n",
       "      <td>Pão de Açúcar</td>\n",
       "      <td>Carne</td>\n",
       "    </tr>\n",
       "    <tr>\n",
       "      <th>12</th>\n",
       "      <td>5</td>\n",
       "      <td>Pão de Açúcar</td>\n",
       "      <td>Frango</td>\n",
       "    </tr>\n",
       "    <tr>\n",
       "      <th>13</th>\n",
       "      <td>3</td>\n",
       "      <td>Pão de Açúcar</td>\n",
       "      <td>Frango</td>\n",
       "    </tr>\n",
       "    <tr>\n",
       "      <th>14</th>\n",
       "      <td>1</td>\n",
       "      <td>Dia</td>\n",
       "      <td>Frango</td>\n",
       "    </tr>\n",
       "    <tr>\n",
       "      <th>15</th>\n",
       "      <td>3</td>\n",
       "      <td>Dia</td>\n",
       "      <td>Peixe</td>\n",
       "    </tr>\n",
       "    <tr>\n",
       "      <th>16</th>\n",
       "      <td>2</td>\n",
       "      <td>Extra</td>\n",
       "      <td>Peixe</td>\n",
       "    </tr>\n",
       "    <tr>\n",
       "      <th>17</th>\n",
       "      <td>2</td>\n",
       "      <td>Dia</td>\n",
       "      <td>Ovos</td>\n",
       "    </tr>\n",
       "    <tr>\n",
       "      <th>18</th>\n",
       "      <td>3</td>\n",
       "      <td>Dia</td>\n",
       "      <td>Ovos</td>\n",
       "    </tr>\n",
       "    <tr>\n",
       "      <th>19</th>\n",
       "      <td>4</td>\n",
       "      <td>Extra</td>\n",
       "      <td>Ovos</td>\n",
       "    </tr>\n",
       "  </tbody>\n",
       "</table>\n",
       "</div>"
      ],
      "text/plain": [
       "    user_id     store_name product_name\n",
       "0         1  Pão de Açúcar        Leite\n",
       "1         5  Pão de Açúcar        Leite\n",
       "2         3            Dia        Leite\n",
       "3         1            Dia        Leite\n",
       "4         2          Extra        Leite\n",
       "5         1  Pão de Açúcar        Arroz\n",
       "6         2            Dia        Arroz\n",
       "7         3            Dia        Arroz\n",
       "8         4            Dia        Arroz\n",
       "9         1          Extra        Arroz\n",
       "10        5  Pão de Açúcar       Feijão\n",
       "11        4  Pão de Açúcar        Carne\n",
       "12        5  Pão de Açúcar       Frango\n",
       "13        3  Pão de Açúcar       Frango\n",
       "14        1            Dia       Frango\n",
       "15        3            Dia        Peixe\n",
       "16        2          Extra        Peixe\n",
       "17        2            Dia         Ovos\n",
       "18        3            Dia         Ovos\n",
       "19        4          Extra         Ovos"
      ]
     },
     "execution_count": 26,
     "metadata": {},
     "output_type": "execute_result"
    }
   ],
   "source": [
    "df1 = pd.DataFrame(\n",
    "    columns=[\"user_id\", \"store_id\", \"product_id\"],\n",
    "    data=[\n",
    "        [1, 1, 1],\n",
    "        [1, 2, 6],\n",
    "        [3, 2, 7],\n",
    "        [2, 2, 3],\n",
    "        [3, 2, 3],\n",
    "        [4, 3, 2],\n",
    "        [2, 3, 1],\n",
    "        [1, 1, 3],\n",
    "        [1, 3, 3],\n",
    "        [5, 1, 4],\n",
    "        [5, 1, 1],\n",
    "        [3, 2, 1],\n",
    "        [1, 2, 1],\n",
    "        [2, 2, 2],\n",
    "        [3, 2, 2],\n",
    "        [4, 2, 3],\n",
    "        [4, 1, 5],\n",
    "        [5, 1, 6],\n",
    "        [3, 1, 6],\n",
    "        [2, 3, 7],\n",
    "    ]\n",
    ")\n",
    "df2 = pd.DataFrame(\n",
    "    columns=[\"store_id\", \"store_name\"],\n",
    "    data=[\n",
    "        [1, \"Pão de Açúcar\"],\n",
    "        [2, \"Dia\"],\n",
    "        [3, \"Extra\"],\n",
    "    ]\n",
    ")\n",
    "df3 = pd.DataFrame(\n",
    "    columns=[\"product_id\", \"product_name\"],\n",
    "    data=[\n",
    "        [1, \"Leite\"],\n",
    "        [2, \"Ovos\"],\n",
    "        [3, \"Arroz\"],\n",
    "        [4, \"Feijão\"],\n",
    "        [5, \"Carne\"],\n",
    "        [6, \"Frango\"],\n",
    "        [7, \"Peixe\"]\n",
    "    ]\n",
    ")\n",
    "\n",
    "df = pd.merge(pd.merge(df1, df2, on=\"store_id\"), df3, on=\"product_id\")[[\"user_id\", \"store_name\", \"product_name\"]]\n",
    "df"
   ]
  },
  {
   "cell_type": "markdown",
   "metadata": {},
   "source": [
    "## Manipulações "
   ]
  },
  {
   "cell_type": "markdown",
   "metadata": {},
   "source": [
    "### `pivot` & `pivot_table`"
   ]
  },
  {
   "cell_type": "code",
   "execution_count": 27,
   "metadata": {},
   "outputs": [],
   "source": [
    "df.pivot?"
   ]
  },
  {
   "cell_type": "code",
   "execution_count": null,
   "metadata": {},
   "outputs": [],
   "source": [
    "df.pivot_table?"
   ]
  },
  {
   "cell_type": "code",
   "execution_count": null,
   "metadata": {},
   "outputs": [],
   "source": [
    "df.pivot(columns=\"store_name\", values=\"product_name\")"
   ]
  },
  {
   "cell_type": "code",
   "execution_count": null,
   "metadata": {},
   "outputs": [],
   "source": [
    "df.pivot_table(columns=\"store_name\", values=\"product_name\", aggfunc=\"count\")"
   ]
  },
  {
   "cell_type": "markdown",
   "metadata": {},
   "source": [
    "### `crosstab`"
   ]
  },
  {
   "cell_type": "code",
   "execution_count": null,
   "metadata": {},
   "outputs": [],
   "source": [
    "pd.crosstab?"
   ]
  },
  {
   "cell_type": "code",
   "execution_count": null,
   "metadata": {},
   "outputs": [],
   "source": [
    "pd.crosstab(df.store_name, df.product_name)"
   ]
  },
  {
   "cell_type": "markdown",
   "metadata": {},
   "source": [
    "###  Agrupamento e Agregação"
   ]
  },
  {
   "cell_type": "code",
   "execution_count": null,
   "metadata": {},
   "outputs": [],
   "source": [
    "pd.DataFrame.groupby?"
   ]
  },
  {
   "cell_type": "code",
   "execution_count": null,
   "metadata": {},
   "outputs": [],
   "source": [
    "pd.core.groupby.DataFrameGroupBy.aggregate?"
   ]
  },
  {
   "cell_type": "code",
   "execution_count": null,
   "metadata": {},
   "outputs": [],
   "source": [
    "g = df.groupby(\"product_name\")\n",
    "g"
   ]
  },
  {
   "cell_type": "code",
   "execution_count": null,
   "metadata": {},
   "outputs": [],
   "source": [
    "g.describe()"
   ]
  },
  {
   "cell_type": "code",
   "execution_count": null,
   "metadata": {},
   "outputs": [],
   "source": [
    "g.aggregate([\"min\", \"mean\", \"median\", \"max\", \"sum\"])"
   ]
  },
  {
   "cell_type": "code",
   "execution_count": null,
   "metadata": {},
   "outputs": [],
   "source": [
    "g.max()"
   ]
  }
 ],
 "metadata": {
  "kernelspec": {
   "display_name": "Python 3",
   "language": "python",
   "name": "python3"
  },
  "language_info": {
   "codemirror_mode": {
    "name": "ipython",
    "version": 3
   },
   "file_extension": ".py",
   "mimetype": "text/x-python",
   "name": "python",
   "nbconvert_exporter": "python",
   "pygments_lexer": "ipython3",
   "version": "3.6.4"
  }
 },
 "nbformat": 4,
 "nbformat_minor": 2
}
