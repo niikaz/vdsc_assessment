{
 "cells": [
  {
   "cell_type": "markdown",
   "metadata": {},
   "source": [
    "# Tutorial 2: Análise de Dados"
   ]
  },
  {
   "cell_type": "markdown",
   "metadata": {},
   "source": [
    "___"
   ]
  },
  {
   "cell_type": "markdown",
   "metadata": {},
   "source": [
    "# Imports para a Aula"
   ]
  },
  {
   "cell_type": "code",
   "execution_count": 3,
   "metadata": {},
   "outputs": [],
   "source": [
    "import numpy as np\n",
    "import pandas as pd"
   ]
  },
  {
   "cell_type": "markdown",
   "metadata": {},
   "source": [
    "\n",
    "# Operações Vetoriais"
   ]
  },
  {
   "cell_type": "markdown",
   "metadata": {},
   "source": [
    "## Definição das Variáveis\n",
    "\n",
    "pq tem um .T?"
   ]
  },
  {
   "cell_type": "code",
   "execution_count": 10,
   "metadata": {},
   "outputs": [
    {
     "data": {
      "text/html": [
       "<div>\n",
       "<style scoped>\n",
       "    .dataframe tbody tr th:only-of-type {\n",
       "        vertical-align: middle;\n",
       "    }\n",
       "\n",
       "    .dataframe tbody tr th {\n",
       "        vertical-align: top;\n",
       "    }\n",
       "\n",
       "    .dataframe thead th {\n",
       "        text-align: right;\n",
       "    }\n",
       "</style>\n",
       "<table border=\"1\" class=\"dataframe\">\n",
       "  <thead>\n",
       "    <tr style=\"text-align: right;\">\n",
       "      <th></th>\n",
       "      <th>Unidade</th>\n",
       "      <th>Quantidade</th>\n",
       "      <th>Preço Unitário</th>\n",
       "    </tr>\n",
       "    <tr>\n",
       "      <th>Itens</th>\n",
       "      <th></th>\n",
       "      <th></th>\n",
       "      <th></th>\n",
       "    </tr>\n",
       "  </thead>\n",
       "  <tbody>\n",
       "    <tr>\n",
       "      <th>Leite</th>\n",
       "      <td>Litro</td>\n",
       "      <td>4</td>\n",
       "      <td>3.0</td>\n",
       "    </tr>\n",
       "    <tr>\n",
       "      <th>Ovos</th>\n",
       "      <td>Dúzia</td>\n",
       "      <td>3</td>\n",
       "      <td>6.5</td>\n",
       "    </tr>\n",
       "    <tr>\n",
       "      <th>Carne</th>\n",
       "      <td>Kilograma</td>\n",
       "      <td>1</td>\n",
       "      <td>25.9</td>\n",
       "    </tr>\n",
       "    <tr>\n",
       "      <th>Arroz</th>\n",
       "      <td>Kilograma</td>\n",
       "      <td>5</td>\n",
       "      <td>5.0</td>\n",
       "    </tr>\n",
       "    <tr>\n",
       "      <th>Feijão</th>\n",
       "      <td>Kilograma</td>\n",
       "      <td>2</td>\n",
       "      <td>3.8</td>\n",
       "    </tr>\n",
       "  </tbody>\n",
       "</table>\n",
       "</div>"
      ],
      "text/plain": [
       "          Unidade Quantidade Preço Unitário\n",
       "Itens                                      \n",
       "Leite       Litro          4            3.0\n",
       "Ovos        Dúzia          3            6.5\n",
       "Carne   Kilograma          1           25.9\n",
       "Arroz   Kilograma          5            5.0\n",
       "Feijão  Kilograma          2            3.8"
      ]
     },
     "execution_count": 10,
     "metadata": {},
     "output_type": "execute_result"
    }
   ],
   "source": [
    "df = pd.DataFrame(\n",
    "    index=pd.Index(data=[\"Leite\", \"Ovos\", \"Carne\", \"Arroz\", \"Feijão\"], name=\"Itens\"),\n",
    "    columns=[\"Unidade\", \"Quantidade\",  \"Preço Unitário\"],\n",
    "    data=np.array([\n",
    "        [\"Litro\", \"Dúzia\", \"Kilograma\", \"Kilograma\", \"Kilograma\"],\n",
    "        [4, 3, 1, 5, 2],\n",
    "        [3.00, 6.50, 25.90, 5.00, 3.80]\n",
    "    ]).T,\n",
    ")\n",
    "df"
   ]
  },
  {
   "cell_type": "code",
   "execution_count": 7,
   "metadata": {},
   "outputs": [
    {
     "data": {
      "text/plain": [
       "Unidade           object\n",
       "Quantidade        object\n",
       "Preço Unitário    object\n",
       "dtype: object"
      ]
     },
     "execution_count": 7,
     "metadata": {},
     "output_type": "execute_result"
    }
   ],
   "source": [
    "\"\"\" verificando dtypes \"\"\"\n",
    "df.dtypes"
   ]
  },
  {
   "cell_type": "markdown",
   "metadata": {},
   "source": [
    "Pq tem que converter ??"
   ]
  },
  {
   "cell_type": "code",
   "execution_count": 20,
   "metadata": {},
   "outputs": [
    {
     "data": {
      "text/html": [
       "<div>\n",
       "<style scoped>\n",
       "    .dataframe tbody tr th:only-of-type {\n",
       "        vertical-align: middle;\n",
       "    }\n",
       "\n",
       "    .dataframe tbody tr th {\n",
       "        vertical-align: top;\n",
       "    }\n",
       "\n",
       "    .dataframe thead th {\n",
       "        text-align: right;\n",
       "    }\n",
       "</style>\n",
       "<table border=\"1\" class=\"dataframe\">\n",
       "  <thead>\n",
       "    <tr style=\"text-align: right;\">\n",
       "      <th></th>\n",
       "      <th>Unidade</th>\n",
       "      <th>Quantidade</th>\n",
       "      <th>Preço Unitário</th>\n",
       "    </tr>\n",
       "    <tr>\n",
       "      <th>Itens</th>\n",
       "      <th></th>\n",
       "      <th></th>\n",
       "      <th></th>\n",
       "    </tr>\n",
       "  </thead>\n",
       "  <tbody>\n",
       "    <tr>\n",
       "      <th>Leite</th>\n",
       "      <td>Litro</td>\n",
       "      <td>4.0</td>\n",
       "      <td>4.0</td>\n",
       "    </tr>\n",
       "    <tr>\n",
       "      <th>Ovos</th>\n",
       "      <td>Dúzia</td>\n",
       "      <td>3.0</td>\n",
       "      <td>7.5</td>\n",
       "    </tr>\n",
       "    <tr>\n",
       "      <th>Carne</th>\n",
       "      <td>Kilograma</td>\n",
       "      <td>1.0</td>\n",
       "      <td>26.9</td>\n",
       "    </tr>\n",
       "    <tr>\n",
       "      <th>Arroz</th>\n",
       "      <td>Kilograma</td>\n",
       "      <td>5.0</td>\n",
       "      <td>6.0</td>\n",
       "    </tr>\n",
       "    <tr>\n",
       "      <th>Feijão</th>\n",
       "      <td>Kilograma</td>\n",
       "      <td>2.0</td>\n",
       "      <td>4.8</td>\n",
       "    </tr>\n",
       "  </tbody>\n",
       "</table>\n",
       "</div>"
      ],
      "text/plain": [
       "          Unidade  Quantidade  Preço Unitário\n",
       "Itens                                        \n",
       "Leite       Litro         4.0             4.0\n",
       "Ovos        Dúzia         3.0             7.5\n",
       "Carne   Kilograma         1.0            26.9\n",
       "Arroz   Kilograma         5.0             6.0\n",
       "Feijão  Kilograma         2.0             4.8"
      ]
     },
     "execution_count": 20,
     "metadata": {},
     "output_type": "execute_result"
    }
   ],
   "source": [
    "\"\"\"Conversão necessária pois o pandas interp´reta 'mixed types' como strings \"\"\"\n",
    "df[[\"Quantidade\",  \"Preço Unitário\"]] = df[[\"Quantidade\",  \"Preço Unitário\"]].astype(float)\n",
    "df"
   ]
  },
  {
   "cell_type": "code",
   "execution_count": 21,
   "metadata": {},
   "outputs": [
    {
     "data": {
      "text/plain": [
       "Unidade            object\n",
       "Quantidade        float64\n",
       "Preço Unitário    float64\n",
       "dtype: object"
      ]
     },
     "execution_count": 21,
     "metadata": {},
     "output_type": "execute_result"
    }
   ],
   "source": [
    "\"\"\" verificando dtypes \"\"\"\n",
    "df.dtypes"
   ]
  },
  {
   "cell_type": "markdown",
   "metadata": {},
   "source": [
    "## Manipulações Numéricas"
   ]
  },
  {
   "cell_type": "markdown",
   "metadata": {},
   "source": [
    "### * Incrementando o Preço Unitário"
   ]
  },
  {
   "cell_type": "code",
   "execution_count": 22,
   "metadata": {},
   "outputs": [
    {
     "data": {
      "text/html": [
       "<div>\n",
       "<style scoped>\n",
       "    .dataframe tbody tr th:only-of-type {\n",
       "        vertical-align: middle;\n",
       "    }\n",
       "\n",
       "    .dataframe tbody tr th {\n",
       "        vertical-align: top;\n",
       "    }\n",
       "\n",
       "    .dataframe thead th {\n",
       "        text-align: right;\n",
       "    }\n",
       "</style>\n",
       "<table border=\"1\" class=\"dataframe\">\n",
       "  <thead>\n",
       "    <tr style=\"text-align: right;\">\n",
       "      <th></th>\n",
       "      <th>Unidade</th>\n",
       "      <th>Quantidade</th>\n",
       "      <th>Preço Unitário</th>\n",
       "    </tr>\n",
       "    <tr>\n",
       "      <th>Itens</th>\n",
       "      <th></th>\n",
       "      <th></th>\n",
       "      <th></th>\n",
       "    </tr>\n",
       "  </thead>\n",
       "  <tbody>\n",
       "    <tr>\n",
       "      <th>Leite</th>\n",
       "      <td>Litro</td>\n",
       "      <td>4.0</td>\n",
       "      <td>5.0</td>\n",
       "    </tr>\n",
       "    <tr>\n",
       "      <th>Ovos</th>\n",
       "      <td>Dúzia</td>\n",
       "      <td>3.0</td>\n",
       "      <td>8.5</td>\n",
       "    </tr>\n",
       "    <tr>\n",
       "      <th>Carne</th>\n",
       "      <td>Kilograma</td>\n",
       "      <td>1.0</td>\n",
       "      <td>27.9</td>\n",
       "    </tr>\n",
       "    <tr>\n",
       "      <th>Arroz</th>\n",
       "      <td>Kilograma</td>\n",
       "      <td>5.0</td>\n",
       "      <td>7.0</td>\n",
       "    </tr>\n",
       "    <tr>\n",
       "      <th>Feijão</th>\n",
       "      <td>Kilograma</td>\n",
       "      <td>2.0</td>\n",
       "      <td>5.8</td>\n",
       "    </tr>\n",
       "  </tbody>\n",
       "</table>\n",
       "</div>"
      ],
      "text/plain": [
       "          Unidade  Quantidade  Preço Unitário\n",
       "Itens                                        \n",
       "Leite       Litro         4.0             5.0\n",
       "Ovos        Dúzia         3.0             8.5\n",
       "Carne   Kilograma         1.0            27.9\n",
       "Arroz   Kilograma         5.0             7.0\n",
       "Feijão  Kilograma         2.0             5.8"
      ]
     },
     "execution_count": 22,
     "metadata": {},
     "output_type": "execute_result"
    }
   ],
   "source": [
    "df[\"Preço Unitário\"] += 1.\n",
    "df"
   ]
  },
  {
   "cell_type": "markdown",
   "metadata": {},
   "source": [
    "### * Desconto de 10% no Preço Unitário"
   ]
  },
  {
   "cell_type": "code",
   "execution_count": 23,
   "metadata": {},
   "outputs": [
    {
     "data": {
      "text/html": [
       "<div>\n",
       "<style scoped>\n",
       "    .dataframe tbody tr th:only-of-type {\n",
       "        vertical-align: middle;\n",
       "    }\n",
       "\n",
       "    .dataframe tbody tr th {\n",
       "        vertical-align: top;\n",
       "    }\n",
       "\n",
       "    .dataframe thead th {\n",
       "        text-align: right;\n",
       "    }\n",
       "</style>\n",
       "<table border=\"1\" class=\"dataframe\">\n",
       "  <thead>\n",
       "    <tr style=\"text-align: right;\">\n",
       "      <th></th>\n",
       "      <th>Unidade</th>\n",
       "      <th>Quantidade</th>\n",
       "      <th>Preço Unitário</th>\n",
       "    </tr>\n",
       "    <tr>\n",
       "      <th>Itens</th>\n",
       "      <th></th>\n",
       "      <th></th>\n",
       "      <th></th>\n",
       "    </tr>\n",
       "  </thead>\n",
       "  <tbody>\n",
       "    <tr>\n",
       "      <th>Leite</th>\n",
       "      <td>Litro</td>\n",
       "      <td>4.0</td>\n",
       "      <td>4.50</td>\n",
       "    </tr>\n",
       "    <tr>\n",
       "      <th>Ovos</th>\n",
       "      <td>Dúzia</td>\n",
       "      <td>3.0</td>\n",
       "      <td>7.65</td>\n",
       "    </tr>\n",
       "    <tr>\n",
       "      <th>Carne</th>\n",
       "      <td>Kilograma</td>\n",
       "      <td>1.0</td>\n",
       "      <td>25.11</td>\n",
       "    </tr>\n",
       "    <tr>\n",
       "      <th>Arroz</th>\n",
       "      <td>Kilograma</td>\n",
       "      <td>5.0</td>\n",
       "      <td>6.30</td>\n",
       "    </tr>\n",
       "    <tr>\n",
       "      <th>Feijão</th>\n",
       "      <td>Kilograma</td>\n",
       "      <td>2.0</td>\n",
       "      <td>5.22</td>\n",
       "    </tr>\n",
       "  </tbody>\n",
       "</table>\n",
       "</div>"
      ],
      "text/plain": [
       "          Unidade  Quantidade  Preço Unitário\n",
       "Itens                                        \n",
       "Leite       Litro         4.0            4.50\n",
       "Ovos        Dúzia         3.0            7.65\n",
       "Carne   Kilograma         1.0           25.11\n",
       "Arroz   Kilograma         5.0            6.30\n",
       "Feijão  Kilograma         2.0            5.22"
      ]
     },
     "execution_count": 23,
     "metadata": {},
     "output_type": "execute_result"
    }
   ],
   "source": [
    "df[\"Preço Unitário\"] *= 0.90\n",
    "df"
   ]
  },
  {
   "cell_type": "markdown",
   "metadata": {},
   "source": [
    "### * Cálculo do Preço Total por Item"
   ]
  },
  {
   "cell_type": "code",
   "execution_count": 24,
   "metadata": {},
   "outputs": [
    {
     "data": {
      "text/html": [
       "<div>\n",
       "<style scoped>\n",
       "    .dataframe tbody tr th:only-of-type {\n",
       "        vertical-align: middle;\n",
       "    }\n",
       "\n",
       "    .dataframe tbody tr th {\n",
       "        vertical-align: top;\n",
       "    }\n",
       "\n",
       "    .dataframe thead th {\n",
       "        text-align: right;\n",
       "    }\n",
       "</style>\n",
       "<table border=\"1\" class=\"dataframe\">\n",
       "  <thead>\n",
       "    <tr style=\"text-align: right;\">\n",
       "      <th></th>\n",
       "      <th>Unidade</th>\n",
       "      <th>Quantidade</th>\n",
       "      <th>Preço Unitário</th>\n",
       "      <th>Preço Total</th>\n",
       "    </tr>\n",
       "    <tr>\n",
       "      <th>Itens</th>\n",
       "      <th></th>\n",
       "      <th></th>\n",
       "      <th></th>\n",
       "      <th></th>\n",
       "    </tr>\n",
       "  </thead>\n",
       "  <tbody>\n",
       "    <tr>\n",
       "      <th>Leite</th>\n",
       "      <td>Litro</td>\n",
       "      <td>4.0</td>\n",
       "      <td>4.50</td>\n",
       "      <td>18.00</td>\n",
       "    </tr>\n",
       "    <tr>\n",
       "      <th>Ovos</th>\n",
       "      <td>Dúzia</td>\n",
       "      <td>3.0</td>\n",
       "      <td>7.65</td>\n",
       "      <td>22.95</td>\n",
       "    </tr>\n",
       "    <tr>\n",
       "      <th>Carne</th>\n",
       "      <td>Kilograma</td>\n",
       "      <td>1.0</td>\n",
       "      <td>25.11</td>\n",
       "      <td>25.11</td>\n",
       "    </tr>\n",
       "    <tr>\n",
       "      <th>Arroz</th>\n",
       "      <td>Kilograma</td>\n",
       "      <td>5.0</td>\n",
       "      <td>6.30</td>\n",
       "      <td>31.50</td>\n",
       "    </tr>\n",
       "    <tr>\n",
       "      <th>Feijão</th>\n",
       "      <td>Kilograma</td>\n",
       "      <td>2.0</td>\n",
       "      <td>5.22</td>\n",
       "      <td>10.44</td>\n",
       "    </tr>\n",
       "  </tbody>\n",
       "</table>\n",
       "</div>"
      ],
      "text/plain": [
       "          Unidade  Quantidade  Preço Unitário  Preço Total\n",
       "Itens                                                     \n",
       "Leite       Litro         4.0            4.50        18.00\n",
       "Ovos        Dúzia         3.0            7.65        22.95\n",
       "Carne   Kilograma         1.0           25.11        25.11\n",
       "Arroz   Kilograma         5.0            6.30        31.50\n",
       "Feijão  Kilograma         2.0            5.22        10.44"
      ]
     },
     "execution_count": 24,
     "metadata": {},
     "output_type": "execute_result"
    }
   ],
   "source": [
    "df[\"Preço Total\"] = df[\"Preço Unitário\"] * df[\"Quantidade\"]\n",
    "df"
   ]
  },
  {
   "cell_type": "markdown",
   "metadata": {},
   "source": [
    "### * Cálculo do Preço por Kg"
   ]
  },
  {
   "cell_type": "code",
   "execution_count": 25,
   "metadata": {},
   "outputs": [
    {
     "data": {
      "text/html": [
       "<div>\n",
       "<style scoped>\n",
       "    .dataframe tbody tr th:only-of-type {\n",
       "        vertical-align: middle;\n",
       "    }\n",
       "\n",
       "    .dataframe tbody tr th {\n",
       "        vertical-align: top;\n",
       "    }\n",
       "\n",
       "    .dataframe thead th {\n",
       "        text-align: right;\n",
       "    }\n",
       "</style>\n",
       "<table border=\"1\" class=\"dataframe\">\n",
       "  <thead>\n",
       "    <tr style=\"text-align: right;\">\n",
       "      <th></th>\n",
       "      <th>Unidade</th>\n",
       "      <th>Quantidade</th>\n",
       "      <th>Preço Unitário</th>\n",
       "      <th>Preço Total</th>\n",
       "      <th>Preço Médio Por Kg</th>\n",
       "    </tr>\n",
       "    <tr>\n",
       "      <th>Itens</th>\n",
       "      <th></th>\n",
       "      <th></th>\n",
       "      <th></th>\n",
       "      <th></th>\n",
       "      <th></th>\n",
       "    </tr>\n",
       "  </thead>\n",
       "  <tbody>\n",
       "    <tr>\n",
       "      <th>Leite</th>\n",
       "      <td>Litro</td>\n",
       "      <td>4.0</td>\n",
       "      <td>4.50</td>\n",
       "      <td>18.00</td>\n",
       "      <td>NaN</td>\n",
       "    </tr>\n",
       "    <tr>\n",
       "      <th>Ovos</th>\n",
       "      <td>Dúzia</td>\n",
       "      <td>3.0</td>\n",
       "      <td>7.65</td>\n",
       "      <td>22.95</td>\n",
       "      <td>NaN</td>\n",
       "    </tr>\n",
       "    <tr>\n",
       "      <th>Carne</th>\n",
       "      <td>Kilograma</td>\n",
       "      <td>1.0</td>\n",
       "      <td>25.11</td>\n",
       "      <td>25.11</td>\n",
       "      <td>NaN</td>\n",
       "    </tr>\n",
       "    <tr>\n",
       "      <th>Arroz</th>\n",
       "      <td>Kilograma</td>\n",
       "      <td>5.0</td>\n",
       "      <td>6.30</td>\n",
       "      <td>31.50</td>\n",
       "      <td>NaN</td>\n",
       "    </tr>\n",
       "    <tr>\n",
       "      <th>Feijão</th>\n",
       "      <td>Kilograma</td>\n",
       "      <td>2.0</td>\n",
       "      <td>5.22</td>\n",
       "      <td>10.44</td>\n",
       "      <td>NaN</td>\n",
       "    </tr>\n",
       "  </tbody>\n",
       "</table>\n",
       "</div>"
      ],
      "text/plain": [
       "          Unidade  Quantidade  Preço Unitário  Preço Total  Preço Médio Por Kg\n",
       "Itens                                                                         \n",
       "Leite       Litro         4.0            4.50        18.00                 NaN\n",
       "Ovos        Dúzia         3.0            7.65        22.95                 NaN\n",
       "Carne   Kilograma         1.0           25.11        25.11                 NaN\n",
       "Arroz   Kilograma         5.0            6.30        31.50                 NaN\n",
       "Feijão  Kilograma         2.0            5.22        10.44                 NaN"
      ]
     },
     "execution_count": 25,
     "metadata": {},
     "output_type": "execute_result"
    }
   ],
   "source": [
    "df[\"Preço Médio Por Kg\"] = np.nan\n",
    "df"
   ]
  },
  {
   "cell_type": "code",
   "execution_count": 27,
   "metadata": {},
   "outputs": [
    {
     "data": {
      "text/html": [
       "<div>\n",
       "<style scoped>\n",
       "    .dataframe tbody tr th:only-of-type {\n",
       "        vertical-align: middle;\n",
       "    }\n",
       "\n",
       "    .dataframe tbody tr th {\n",
       "        vertical-align: top;\n",
       "    }\n",
       "\n",
       "    .dataframe thead th {\n",
       "        text-align: right;\n",
       "    }\n",
       "</style>\n",
       "<table border=\"1\" class=\"dataframe\">\n",
       "  <thead>\n",
       "    <tr style=\"text-align: right;\">\n",
       "      <th></th>\n",
       "      <th>Unidade</th>\n",
       "      <th>Quantidade</th>\n",
       "      <th>Preço Unitário</th>\n",
       "      <th>Preço Total</th>\n",
       "      <th>Preço Médio Por Kg</th>\n",
       "    </tr>\n",
       "    <tr>\n",
       "      <th>Itens</th>\n",
       "      <th></th>\n",
       "      <th></th>\n",
       "      <th></th>\n",
       "      <th></th>\n",
       "      <th></th>\n",
       "    </tr>\n",
       "  </thead>\n",
       "  <tbody>\n",
       "    <tr>\n",
       "      <th>Carne</th>\n",
       "      <td>Kilograma</td>\n",
       "      <td>1.0</td>\n",
       "      <td>25.11</td>\n",
       "      <td>25.11</td>\n",
       "      <td>NaN</td>\n",
       "    </tr>\n",
       "    <tr>\n",
       "      <th>Arroz</th>\n",
       "      <td>Kilograma</td>\n",
       "      <td>5.0</td>\n",
       "      <td>6.30</td>\n",
       "      <td>31.50</td>\n",
       "      <td>NaN</td>\n",
       "    </tr>\n",
       "    <tr>\n",
       "      <th>Feijão</th>\n",
       "      <td>Kilograma</td>\n",
       "      <td>2.0</td>\n",
       "      <td>5.22</td>\n",
       "      <td>10.44</td>\n",
       "      <td>NaN</td>\n",
       "    </tr>\n",
       "  </tbody>\n",
       "</table>\n",
       "</div>"
      ],
      "text/plain": [
       "          Unidade  Quantidade  Preço Unitário  Preço Total  Preço Médio Por Kg\n",
       "Itens                                                                         \n",
       "Carne   Kilograma         1.0           25.11        25.11                 NaN\n",
       "Arroz   Kilograma         5.0            6.30        31.50                 NaN\n",
       "Feijão  Kilograma         2.0            5.22        10.44                 NaN"
      ]
     },
     "execution_count": 27,
     "metadata": {},
     "output_type": "execute_result"
    }
   ],
   "source": [
    "mask = df[\"Unidade\"] == \"Kilograma\"\n",
    "df[mask]"
   ]
  },
  {
   "cell_type": "code",
   "execution_count": 28,
   "metadata": {},
   "outputs": [
    {
     "data": {
      "text/html": [
       "<div>\n",
       "<style scoped>\n",
       "    .dataframe tbody tr th:only-of-type {\n",
       "        vertical-align: middle;\n",
       "    }\n",
       "\n",
       "    .dataframe tbody tr th {\n",
       "        vertical-align: top;\n",
       "    }\n",
       "\n",
       "    .dataframe thead th {\n",
       "        text-align: right;\n",
       "    }\n",
       "</style>\n",
       "<table border=\"1\" class=\"dataframe\">\n",
       "  <thead>\n",
       "    <tr style=\"text-align: right;\">\n",
       "      <th></th>\n",
       "      <th>Unidade</th>\n",
       "      <th>Quantidade</th>\n",
       "      <th>Preço Unitário</th>\n",
       "      <th>Preço Total</th>\n",
       "      <th>Preço Médio Por Kg</th>\n",
       "    </tr>\n",
       "    <tr>\n",
       "      <th>Itens</th>\n",
       "      <th></th>\n",
       "      <th></th>\n",
       "      <th></th>\n",
       "      <th></th>\n",
       "      <th></th>\n",
       "    </tr>\n",
       "  </thead>\n",
       "  <tbody>\n",
       "    <tr>\n",
       "      <th>Leite</th>\n",
       "      <td>Litro</td>\n",
       "      <td>4.0</td>\n",
       "      <td>4.50</td>\n",
       "      <td>18.00</td>\n",
       "      <td>NaN</td>\n",
       "    </tr>\n",
       "    <tr>\n",
       "      <th>Ovos</th>\n",
       "      <td>Dúzia</td>\n",
       "      <td>3.0</td>\n",
       "      <td>7.65</td>\n",
       "      <td>22.95</td>\n",
       "      <td>NaN</td>\n",
       "    </tr>\n",
       "    <tr>\n",
       "      <th>Carne</th>\n",
       "      <td>Kilograma</td>\n",
       "      <td>1.0</td>\n",
       "      <td>25.11</td>\n",
       "      <td>25.11</td>\n",
       "      <td>28.98</td>\n",
       "    </tr>\n",
       "    <tr>\n",
       "      <th>Arroz</th>\n",
       "      <td>Kilograma</td>\n",
       "      <td>5.0</td>\n",
       "      <td>6.30</td>\n",
       "      <td>31.50</td>\n",
       "      <td>28.98</td>\n",
       "    </tr>\n",
       "    <tr>\n",
       "      <th>Feijão</th>\n",
       "      <td>Kilograma</td>\n",
       "      <td>2.0</td>\n",
       "      <td>5.22</td>\n",
       "      <td>10.44</td>\n",
       "      <td>28.98</td>\n",
       "    </tr>\n",
       "  </tbody>\n",
       "</table>\n",
       "</div>"
      ],
      "text/plain": [
       "          Unidade  Quantidade  Preço Unitário  Preço Total  Preço Médio Por Kg\n",
       "Itens                                                                         \n",
       "Leite       Litro         4.0            4.50        18.00                 NaN\n",
       "Ovos        Dúzia         3.0            7.65        22.95                 NaN\n",
       "Carne   Kilograma         1.0           25.11        25.11               28.98\n",
       "Arroz   Kilograma         5.0            6.30        31.50               28.98\n",
       "Feijão  Kilograma         2.0            5.22        10.44               28.98"
      ]
     },
     "execution_count": 28,
     "metadata": {},
     "output_type": "execute_result"
    }
   ],
   "source": [
    "df.loc[mask, \"Preço Médio Por Kg\"] = (df.loc[mask, \"Preço Unitário\"] / df.loc[mask, \"Quantidade\"]).sum()\n",
    "df"
   ]
  },
  {
   "cell_type": "markdown",
   "metadata": {},
   "source": [
    "### * Preenchendo NaNs"
   ]
  },
  {
   "cell_type": "code",
   "execution_count": 29,
   "metadata": {},
   "outputs": [
    {
     "data": {
      "text/html": [
       "<div>\n",
       "<style scoped>\n",
       "    .dataframe tbody tr th:only-of-type {\n",
       "        vertical-align: middle;\n",
       "    }\n",
       "\n",
       "    .dataframe tbody tr th {\n",
       "        vertical-align: top;\n",
       "    }\n",
       "\n",
       "    .dataframe thead th {\n",
       "        text-align: right;\n",
       "    }\n",
       "</style>\n",
       "<table border=\"1\" class=\"dataframe\">\n",
       "  <thead>\n",
       "    <tr style=\"text-align: right;\">\n",
       "      <th></th>\n",
       "      <th>Unidade</th>\n",
       "      <th>Quantidade</th>\n",
       "      <th>Preço Unitário</th>\n",
       "      <th>Preço Total</th>\n",
       "      <th>Preço Médio Por Kg</th>\n",
       "    </tr>\n",
       "    <tr>\n",
       "      <th>Itens</th>\n",
       "      <th></th>\n",
       "      <th></th>\n",
       "      <th></th>\n",
       "      <th></th>\n",
       "      <th></th>\n",
       "    </tr>\n",
       "  </thead>\n",
       "  <tbody>\n",
       "    <tr>\n",
       "      <th>Leite</th>\n",
       "      <td>Litro</td>\n",
       "      <td>4.0</td>\n",
       "      <td>4.50</td>\n",
       "      <td>18.00</td>\n",
       "      <td>0.00</td>\n",
       "    </tr>\n",
       "    <tr>\n",
       "      <th>Ovos</th>\n",
       "      <td>Dúzia</td>\n",
       "      <td>3.0</td>\n",
       "      <td>7.65</td>\n",
       "      <td>22.95</td>\n",
       "      <td>0.00</td>\n",
       "    </tr>\n",
       "    <tr>\n",
       "      <th>Carne</th>\n",
       "      <td>Kilograma</td>\n",
       "      <td>1.0</td>\n",
       "      <td>25.11</td>\n",
       "      <td>25.11</td>\n",
       "      <td>28.98</td>\n",
       "    </tr>\n",
       "    <tr>\n",
       "      <th>Arroz</th>\n",
       "      <td>Kilograma</td>\n",
       "      <td>5.0</td>\n",
       "      <td>6.30</td>\n",
       "      <td>31.50</td>\n",
       "      <td>28.98</td>\n",
       "    </tr>\n",
       "    <tr>\n",
       "      <th>Feijão</th>\n",
       "      <td>Kilograma</td>\n",
       "      <td>2.0</td>\n",
       "      <td>5.22</td>\n",
       "      <td>10.44</td>\n",
       "      <td>28.98</td>\n",
       "    </tr>\n",
       "  </tbody>\n",
       "</table>\n",
       "</div>"
      ],
      "text/plain": [
       "          Unidade  Quantidade  Preço Unitário  Preço Total  Preço Médio Por Kg\n",
       "Itens                                                                         \n",
       "Leite       Litro         4.0            4.50        18.00                0.00\n",
       "Ovos        Dúzia         3.0            7.65        22.95                0.00\n",
       "Carne   Kilograma         1.0           25.11        25.11               28.98\n",
       "Arroz   Kilograma         5.0            6.30        31.50               28.98\n",
       "Feijão  Kilograma         2.0            5.22        10.44               28.98"
      ]
     },
     "execution_count": 29,
     "metadata": {},
     "output_type": "execute_result"
    }
   ],
   "source": [
    "df.fillna(0)"
   ]
  },
  {
   "cell_type": "markdown",
   "metadata": {},
   "source": [
    "### * Soma : apenas valores numéricos "
   ]
  },
  {
   "cell_type": "code",
   "execution_count": 30,
   "metadata": {},
   "outputs": [
    {
     "data": {
      "text/plain": [
       "Unidade               LitroDúziaKilogramaKilogramaKilograma\n",
       "Quantidade                                               15\n",
       "Preço Unitário                                        48.78\n",
       "Preço Total                                             108\n",
       "Preço Médio Por Kg                                    86.94\n",
       "dtype: object"
      ]
     },
     "execution_count": 30,
     "metadata": {},
     "output_type": "execute_result"
    }
   ],
   "source": [
    "df.sum()"
   ]
  },
  {
   "cell_type": "markdown",
   "metadata": {},
   "source": [
    "### * Média: apenas valores numéricos "
   ]
  },
  {
   "cell_type": "code",
   "execution_count": 31,
   "metadata": {},
   "outputs": [
    {
     "data": {
      "text/plain": [
       "Quantidade             3.000\n",
       "Preço Unitário         9.756\n",
       "Preço Total           21.600\n",
       "Preço Médio Por Kg    28.980\n",
       "dtype: float64"
      ]
     },
     "execution_count": 31,
     "metadata": {},
     "output_type": "execute_result"
    }
   ],
   "source": [
    "df.mean()"
   ]
  },
  {
   "cell_type": "markdown",
   "metadata": {},
   "source": [
    "### * Desvio Padrão: apenas valores numéricos "
   ]
  },
  {
   "cell_type": "code",
   "execution_count": 32,
   "metadata": {},
   "outputs": [
    {
     "data": {
      "text/plain": [
       "Quantidade            1.581139\n",
       "Preço Unitário        8.664948\n",
       "Preço Total           7.900288\n",
       "Preço Médio Por Kg    0.000000\n",
       "dtype: float64"
      ]
     },
     "execution_count": 32,
     "metadata": {},
     "output_type": "execute_result"
    }
   ],
   "source": [
    "df.std()"
   ]
  },
  {
   "cell_type": "markdown",
   "metadata": {},
   "source": [
    "### * Mediana: apenas valores numéricos "
   ]
  },
  {
   "cell_type": "code",
   "execution_count": 33,
   "metadata": {},
   "outputs": [
    {
     "data": {
      "text/plain": [
       "Quantidade             3.00\n",
       "Preço Unitário         6.30\n",
       "Preço Total           22.95\n",
       "Preço Médio Por Kg    28.98\n",
       "dtype: float64"
      ]
     },
     "execution_count": 33,
     "metadata": {},
     "output_type": "execute_result"
    }
   ],
   "source": [
    "df.median()"
   ]
  },
  {
   "cell_type": "markdown",
   "metadata": {},
   "source": [
    "### * Moda (valores mais frequentes): todos os tipos de valores"
   ]
  },
  {
   "cell_type": "code",
   "execution_count": 34,
   "metadata": {},
   "outputs": [
    {
     "data": {
      "text/html": [
       "<div>\n",
       "<style scoped>\n",
       "    .dataframe tbody tr th:only-of-type {\n",
       "        vertical-align: middle;\n",
       "    }\n",
       "\n",
       "    .dataframe tbody tr th {\n",
       "        vertical-align: top;\n",
       "    }\n",
       "\n",
       "    .dataframe thead th {\n",
       "        text-align: right;\n",
       "    }\n",
       "</style>\n",
       "<table border=\"1\" class=\"dataframe\">\n",
       "  <thead>\n",
       "    <tr style=\"text-align: right;\">\n",
       "      <th></th>\n",
       "      <th>Unidade</th>\n",
       "      <th>Quantidade</th>\n",
       "      <th>Preço Unitário</th>\n",
       "      <th>Preço Total</th>\n",
       "      <th>Preço Médio Por Kg</th>\n",
       "    </tr>\n",
       "  </thead>\n",
       "  <tbody>\n",
       "    <tr>\n",
       "      <th>0</th>\n",
       "      <td>Kilograma</td>\n",
       "      <td>1.0</td>\n",
       "      <td>4.50</td>\n",
       "      <td>10.44</td>\n",
       "      <td>28.98</td>\n",
       "    </tr>\n",
       "    <tr>\n",
       "      <th>1</th>\n",
       "      <td>NaN</td>\n",
       "      <td>2.0</td>\n",
       "      <td>5.22</td>\n",
       "      <td>18.00</td>\n",
       "      <td>NaN</td>\n",
       "    </tr>\n",
       "    <tr>\n",
       "      <th>2</th>\n",
       "      <td>NaN</td>\n",
       "      <td>3.0</td>\n",
       "      <td>6.30</td>\n",
       "      <td>22.95</td>\n",
       "      <td>NaN</td>\n",
       "    </tr>\n",
       "    <tr>\n",
       "      <th>3</th>\n",
       "      <td>NaN</td>\n",
       "      <td>4.0</td>\n",
       "      <td>7.65</td>\n",
       "      <td>25.11</td>\n",
       "      <td>NaN</td>\n",
       "    </tr>\n",
       "    <tr>\n",
       "      <th>4</th>\n",
       "      <td>NaN</td>\n",
       "      <td>5.0</td>\n",
       "      <td>25.11</td>\n",
       "      <td>31.50</td>\n",
       "      <td>NaN</td>\n",
       "    </tr>\n",
       "  </tbody>\n",
       "</table>\n",
       "</div>"
      ],
      "text/plain": [
       "     Unidade  Quantidade  Preço Unitário  Preço Total  Preço Médio Por Kg\n",
       "0  Kilograma         1.0            4.50        10.44               28.98\n",
       "1        NaN         2.0            5.22        18.00                 NaN\n",
       "2        NaN         3.0            6.30        22.95                 NaN\n",
       "3        NaN         4.0            7.65        25.11                 NaN\n",
       "4        NaN         5.0           25.11        31.50                 NaN"
      ]
     },
     "execution_count": 34,
     "metadata": {},
     "output_type": "execute_result"
    }
   ],
   "source": [
    "df.mode()"
   ]
  },
  {
   "cell_type": "markdown",
   "metadata": {},
   "source": [
    "# Análise de Dados"
   ]
  },
  {
   "cell_type": "markdown",
   "metadata": {},
   "source": [
    "## Definição das Variáveis"
   ]
  },
  {
   "cell_type": "code",
   "execution_count": 35,
   "metadata": {},
   "outputs": [
    {
     "data": {
      "text/html": [
       "<div>\n",
       "<style scoped>\n",
       "    .dataframe tbody tr th:only-of-type {\n",
       "        vertical-align: middle;\n",
       "    }\n",
       "\n",
       "    .dataframe tbody tr th {\n",
       "        vertical-align: top;\n",
       "    }\n",
       "\n",
       "    .dataframe thead th {\n",
       "        text-align: right;\n",
       "    }\n",
       "</style>\n",
       "<table border=\"1\" class=\"dataframe\">\n",
       "  <thead>\n",
       "    <tr style=\"text-align: right;\">\n",
       "      <th></th>\n",
       "      <th>c1</th>\n",
       "      <th>c2</th>\n",
       "      <th>c3</th>\n",
       "      <th>c4</th>\n",
       "      <th>c5</th>\n",
       "    </tr>\n",
       "  </thead>\n",
       "  <tbody>\n",
       "    <tr>\n",
       "      <th>0</th>\n",
       "      <td>1004.0</td>\n",
       "      <td>20100.0</td>\n",
       "      <td>300765.0</td>\n",
       "      <td>401397.0</td>\n",
       "      <td>5021491.0</td>\n",
       "    </tr>\n",
       "    <tr>\n",
       "      <th>1</th>\n",
       "      <td>1007.0</td>\n",
       "      <td>20081.0</td>\n",
       "      <td>300669.0</td>\n",
       "      <td>402062.0</td>\n",
       "      <td>5083090.0</td>\n",
       "    </tr>\n",
       "    <tr>\n",
       "      <th>2</th>\n",
       "      <td>1009.0</td>\n",
       "      <td>20091.0</td>\n",
       "      <td>300936.0</td>\n",
       "      <td>401566.0</td>\n",
       "      <td>5083820.0</td>\n",
       "    </tr>\n",
       "    <tr>\n",
       "      <th>3</th>\n",
       "      <td>1008.0</td>\n",
       "      <td>20055.0</td>\n",
       "      <td>300027.0</td>\n",
       "      <td>402844.0</td>\n",
       "      <td>5027234.0</td>\n",
       "    </tr>\n",
       "    <tr>\n",
       "      <th>4</th>\n",
       "      <td>1004.0</td>\n",
       "      <td>20038.0</td>\n",
       "      <td>300091.0</td>\n",
       "      <td>407550.0</td>\n",
       "      <td>5011276.0</td>\n",
       "    </tr>\n",
       "    <tr>\n",
       "      <th>5</th>\n",
       "      <td>1003.0</td>\n",
       "      <td>20064.0</td>\n",
       "      <td>300167.0</td>\n",
       "      <td>404307.0</td>\n",
       "      <td>5026426.0</td>\n",
       "    </tr>\n",
       "    <tr>\n",
       "      <th>6</th>\n",
       "      <td>1001.0</td>\n",
       "      <td>20014.0</td>\n",
       "      <td>300574.0</td>\n",
       "      <td>403647.0</td>\n",
       "      <td>5069179.0</td>\n",
       "    </tr>\n",
       "    <tr>\n",
       "      <th>7</th>\n",
       "      <td>1002.0</td>\n",
       "      <td>20006.0</td>\n",
       "      <td>300321.0</td>\n",
       "      <td>405150.0</td>\n",
       "      <td>5023489.0</td>\n",
       "    </tr>\n",
       "    <tr>\n",
       "      <th>8</th>\n",
       "      <td>1005.0</td>\n",
       "      <td>20018.0</td>\n",
       "      <td>300974.0</td>\n",
       "      <td>408365.0</td>\n",
       "      <td>5021891.0</td>\n",
       "    </tr>\n",
       "    <tr>\n",
       "      <th>9</th>\n",
       "      <td>1001.0</td>\n",
       "      <td>20087.0</td>\n",
       "      <td>300932.0</td>\n",
       "      <td>407916.0</td>\n",
       "      <td>5075409.0</td>\n",
       "    </tr>\n",
       "  </tbody>\n",
       "</table>\n",
       "</div>"
      ],
      "text/plain": [
       "       c1       c2        c3        c4         c5\n",
       "0  1004.0  20100.0  300765.0  401397.0  5021491.0\n",
       "1  1007.0  20081.0  300669.0  402062.0  5083090.0\n",
       "2  1009.0  20091.0  300936.0  401566.0  5083820.0\n",
       "3  1008.0  20055.0  300027.0  402844.0  5027234.0\n",
       "4  1004.0  20038.0  300091.0  407550.0  5011276.0\n",
       "5  1003.0  20064.0  300167.0  404307.0  5026426.0\n",
       "6  1001.0  20014.0  300574.0  403647.0  5069179.0\n",
       "7  1002.0  20006.0  300321.0  405150.0  5023489.0\n",
       "8  1005.0  20018.0  300974.0  408365.0  5021891.0\n",
       "9  1001.0  20087.0  300932.0  407916.0  5075409.0"
      ]
     },
     "execution_count": 35,
     "metadata": {},
     "output_type": "execute_result"
    }
   ],
   "source": [
    "cols=[\"c1\", \"c2\", \"c3\", \"c4\", \"c5\"]\n",
    "data = np.random.rand(100, 5) \n",
    "data *= np.array([ 10,  100, 1000, 10000, 100000]) \n",
    "data += np.array([1000, 20000, 300000, 400000, 5000000])\n",
    "data = np.ceil(data)\n",
    "df = pd.DataFrame(columns=cols, data=data)\n",
    "df.head(10)"
   ]
  },
  {
   "cell_type": "markdown",
   "metadata": {},
   "source": [
    "## Descrição dos dados "
   ]
  },
  {
   "cell_type": "markdown",
   "metadata": {},
   "source": [
    "### `describe`"
   ]
  },
  {
   "cell_type": "code",
   "execution_count": 36,
   "metadata": {},
   "outputs": [
    {
     "data": {
      "text/html": [
       "<div>\n",
       "<style scoped>\n",
       "    .dataframe tbody tr th:only-of-type {\n",
       "        vertical-align: middle;\n",
       "    }\n",
       "\n",
       "    .dataframe tbody tr th {\n",
       "        vertical-align: top;\n",
       "    }\n",
       "\n",
       "    .dataframe thead th {\n",
       "        text-align: right;\n",
       "    }\n",
       "</style>\n",
       "<table border=\"1\" class=\"dataframe\">\n",
       "  <thead>\n",
       "    <tr style=\"text-align: right;\">\n",
       "      <th></th>\n",
       "      <th>c1</th>\n",
       "      <th>c2</th>\n",
       "      <th>c3</th>\n",
       "      <th>c4</th>\n",
       "      <th>c5</th>\n",
       "    </tr>\n",
       "  </thead>\n",
       "  <tbody>\n",
       "    <tr>\n",
       "      <th>count</th>\n",
       "      <td>100.000000</td>\n",
       "      <td>100.000000</td>\n",
       "      <td>100.00000</td>\n",
       "      <td>100.000000</td>\n",
       "      <td>1.000000e+02</td>\n",
       "    </tr>\n",
       "    <tr>\n",
       "      <th>mean</th>\n",
       "      <td>1005.780000</td>\n",
       "      <td>20055.180000</td>\n",
       "      <td>300544.79000</td>\n",
       "      <td>404669.020000</td>\n",
       "      <td>5.045702e+06</td>\n",
       "    </tr>\n",
       "    <tr>\n",
       "      <th>std</th>\n",
       "      <td>2.783719</td>\n",
       "      <td>27.758839</td>\n",
       "      <td>295.39261</td>\n",
       "      <td>2989.372421</td>\n",
       "      <td>3.067937e+04</td>\n",
       "    </tr>\n",
       "    <tr>\n",
       "      <th>min</th>\n",
       "      <td>1001.000000</td>\n",
       "      <td>20004.000000</td>\n",
       "      <td>300024.00000</td>\n",
       "      <td>400074.000000</td>\n",
       "      <td>5.000107e+06</td>\n",
       "    </tr>\n",
       "    <tr>\n",
       "      <th>25%</th>\n",
       "      <td>1003.000000</td>\n",
       "      <td>20031.500000</td>\n",
       "      <td>300262.75000</td>\n",
       "      <td>401813.000000</td>\n",
       "      <td>5.018670e+06</td>\n",
       "    </tr>\n",
       "    <tr>\n",
       "      <th>50%</th>\n",
       "      <td>1006.000000</td>\n",
       "      <td>20055.000000</td>\n",
       "      <td>300607.50000</td>\n",
       "      <td>404856.000000</td>\n",
       "      <td>5.041433e+06</td>\n",
       "    </tr>\n",
       "    <tr>\n",
       "      <th>75%</th>\n",
       "      <td>1008.000000</td>\n",
       "      <td>20079.500000</td>\n",
       "      <td>300774.75000</td>\n",
       "      <td>407399.000000</td>\n",
       "      <td>5.075727e+06</td>\n",
       "    </tr>\n",
       "    <tr>\n",
       "      <th>max</th>\n",
       "      <td>1010.000000</td>\n",
       "      <td>20100.000000</td>\n",
       "      <td>300994.00000</td>\n",
       "      <td>409575.000000</td>\n",
       "      <td>5.099603e+06</td>\n",
       "    </tr>\n",
       "  </tbody>\n",
       "</table>\n",
       "</div>"
      ],
      "text/plain": [
       "                c1            c2            c3             c4            c5\n",
       "count   100.000000    100.000000     100.00000     100.000000  1.000000e+02\n",
       "mean   1005.780000  20055.180000  300544.79000  404669.020000  5.045702e+06\n",
       "std       2.783719     27.758839     295.39261    2989.372421  3.067937e+04\n",
       "min    1001.000000  20004.000000  300024.00000  400074.000000  5.000107e+06\n",
       "25%    1003.000000  20031.500000  300262.75000  401813.000000  5.018670e+06\n",
       "50%    1006.000000  20055.000000  300607.50000  404856.000000  5.041433e+06\n",
       "75%    1008.000000  20079.500000  300774.75000  407399.000000  5.075727e+06\n",
       "max    1010.000000  20100.000000  300994.00000  409575.000000  5.099603e+06"
      ]
     },
     "execution_count": 36,
     "metadata": {},
     "output_type": "execute_result"
    }
   ],
   "source": [
    "\"\"\" descrevendo as distribuições dos dados \"\"\"\n",
    "df.describe()"
   ]
  },
  {
   "cell_type": "code",
   "execution_count": 37,
   "metadata": {},
   "outputs": [
    {
     "data": {
      "text/html": [
       "<div>\n",
       "<style scoped>\n",
       "    .dataframe tbody tr th:only-of-type {\n",
       "        vertical-align: middle;\n",
       "    }\n",
       "\n",
       "    .dataframe tbody tr th {\n",
       "        vertical-align: top;\n",
       "    }\n",
       "\n",
       "    .dataframe thead th {\n",
       "        text-align: right;\n",
       "    }\n",
       "</style>\n",
       "<table border=\"1\" class=\"dataframe\">\n",
       "  <thead>\n",
       "    <tr style=\"text-align: right;\">\n",
       "      <th></th>\n",
       "      <th>c1</th>\n",
       "      <th>c2</th>\n",
       "      <th>c3</th>\n",
       "      <th>c4</th>\n",
       "      <th>c5</th>\n",
       "    </tr>\n",
       "  </thead>\n",
       "  <tbody>\n",
       "    <tr>\n",
       "      <th>count</th>\n",
       "      <td>100.000000</td>\n",
       "      <td>100.000000</td>\n",
       "      <td>100.00000</td>\n",
       "      <td>100.000000</td>\n",
       "      <td>1.000000e+02</td>\n",
       "    </tr>\n",
       "    <tr>\n",
       "      <th>mean</th>\n",
       "      <td>1005.780000</td>\n",
       "      <td>20055.180000</td>\n",
       "      <td>300544.79000</td>\n",
       "      <td>404669.020000</td>\n",
       "      <td>5.045702e+06</td>\n",
       "    </tr>\n",
       "    <tr>\n",
       "      <th>std</th>\n",
       "      <td>2.783719</td>\n",
       "      <td>27.758839</td>\n",
       "      <td>295.39261</td>\n",
       "      <td>2989.372421</td>\n",
       "      <td>3.067937e+04</td>\n",
       "    </tr>\n",
       "    <tr>\n",
       "      <th>min</th>\n",
       "      <td>1001.000000</td>\n",
       "      <td>20004.000000</td>\n",
       "      <td>300024.00000</td>\n",
       "      <td>400074.000000</td>\n",
       "      <td>5.000107e+06</td>\n",
       "    </tr>\n",
       "    <tr>\n",
       "      <th>10%</th>\n",
       "      <td>1001.900000</td>\n",
       "      <td>20016.900000</td>\n",
       "      <td>300090.80000</td>\n",
       "      <td>400724.000000</td>\n",
       "      <td>5.006024e+06</td>\n",
       "    </tr>\n",
       "    <tr>\n",
       "      <th>20%</th>\n",
       "      <td>1003.000000</td>\n",
       "      <td>20027.000000</td>\n",
       "      <td>300220.40000</td>\n",
       "      <td>401454.000000</td>\n",
       "      <td>5.017683e+06</td>\n",
       "    </tr>\n",
       "    <tr>\n",
       "      <th>30%</th>\n",
       "      <td>1004.000000</td>\n",
       "      <td>20038.000000</td>\n",
       "      <td>300326.40000</td>\n",
       "      <td>402136.500000</td>\n",
       "      <td>5.021771e+06</td>\n",
       "    </tr>\n",
       "    <tr>\n",
       "      <th>40%</th>\n",
       "      <td>1005.000000</td>\n",
       "      <td>20046.600000</td>\n",
       "      <td>300518.20000</td>\n",
       "      <td>402890.200000</td>\n",
       "      <td>5.030604e+06</td>\n",
       "    </tr>\n",
       "    <tr>\n",
       "      <th>50%</th>\n",
       "      <td>1006.000000</td>\n",
       "      <td>20055.000000</td>\n",
       "      <td>300607.50000</td>\n",
       "      <td>404856.000000</td>\n",
       "      <td>5.041433e+06</td>\n",
       "    </tr>\n",
       "    <tr>\n",
       "      <th>60%</th>\n",
       "      <td>1007.000000</td>\n",
       "      <td>20067.800000</td>\n",
       "      <td>300672.40000</td>\n",
       "      <td>405727.400000</td>\n",
       "      <td>5.052827e+06</td>\n",
       "    </tr>\n",
       "    <tr>\n",
       "      <th>70%</th>\n",
       "      <td>1008.000000</td>\n",
       "      <td>20076.300000</td>\n",
       "      <td>300764.30000</td>\n",
       "      <td>406908.500000</td>\n",
       "      <td>5.068768e+06</td>\n",
       "    </tr>\n",
       "    <tr>\n",
       "      <th>80%</th>\n",
       "      <td>1009.000000</td>\n",
       "      <td>20083.000000</td>\n",
       "      <td>300810.40000</td>\n",
       "      <td>407733.800000</td>\n",
       "      <td>5.081373e+06</td>\n",
       "    </tr>\n",
       "    <tr>\n",
       "      <th>90%</th>\n",
       "      <td>1009.000000</td>\n",
       "      <td>20090.100000</td>\n",
       "      <td>300923.00000</td>\n",
       "      <td>408624.600000</td>\n",
       "      <td>5.089620e+06</td>\n",
       "    </tr>\n",
       "    <tr>\n",
       "      <th>max</th>\n",
       "      <td>1010.000000</td>\n",
       "      <td>20100.000000</td>\n",
       "      <td>300994.00000</td>\n",
       "      <td>409575.000000</td>\n",
       "      <td>5.099603e+06</td>\n",
       "    </tr>\n",
       "  </tbody>\n",
       "</table>\n",
       "</div>"
      ],
      "text/plain": [
       "                c1            c2            c3             c4            c5\n",
       "count   100.000000    100.000000     100.00000     100.000000  1.000000e+02\n",
       "mean   1005.780000  20055.180000  300544.79000  404669.020000  5.045702e+06\n",
       "std       2.783719     27.758839     295.39261    2989.372421  3.067937e+04\n",
       "min    1001.000000  20004.000000  300024.00000  400074.000000  5.000107e+06\n",
       "10%    1001.900000  20016.900000  300090.80000  400724.000000  5.006024e+06\n",
       "20%    1003.000000  20027.000000  300220.40000  401454.000000  5.017683e+06\n",
       "30%    1004.000000  20038.000000  300326.40000  402136.500000  5.021771e+06\n",
       "40%    1005.000000  20046.600000  300518.20000  402890.200000  5.030604e+06\n",
       "50%    1006.000000  20055.000000  300607.50000  404856.000000  5.041433e+06\n",
       "60%    1007.000000  20067.800000  300672.40000  405727.400000  5.052827e+06\n",
       "70%    1008.000000  20076.300000  300764.30000  406908.500000  5.068768e+06\n",
       "80%    1009.000000  20083.000000  300810.40000  407733.800000  5.081373e+06\n",
       "90%    1009.000000  20090.100000  300923.00000  408624.600000  5.089620e+06\n",
       "max    1010.000000  20100.000000  300994.00000  409575.000000  5.099603e+06"
      ]
     },
     "execution_count": 37,
     "metadata": {},
     "output_type": "execute_result"
    }
   ],
   "source": [
    "\"\"\" mesma coisa, escolhendo os percentis ()  \"\"\"\n",
    "df.describe(percentiles=[0.1, 0.2, 0.3, 0.4, 0.5, 0.6, 0.7, 0.8, 0.9])"
   ]
  },
  {
   "cell_type": "markdown",
   "metadata": {},
   "source": [
    "### `unique`"
   ]
  },
  {
   "cell_type": "code",
   "execution_count": 38,
   "metadata": {},
   "outputs": [
    {
     "data": {
      "text/plain": [
       "array([1004., 1007., 1009., 1008., 1003., 1001., 1002., 1005., 1010.,\n",
       "       1006.])"
      ]
     },
     "execution_count": 38,
     "metadata": {},
     "output_type": "execute_result"
    }
   ],
   "source": [
    "\"\"\" Verificando os valores únicos de C1 \"\"\"\n",
    "df.c1.unique()"
   ]
  },
  {
   "cell_type": "markdown",
   "metadata": {},
   "source": [
    "### `value_counts`"
   ]
  },
  {
   "cell_type": "code",
   "execution_count": 39,
   "metadata": {},
   "outputs": [
    {
     "data": {
      "text/plain": [
       "1009.0    14\n",
       "1007.0    14\n",
       "1005.0    13\n",
       "1008.0    11\n",
       "1006.0    10\n",
       "1001.0    10\n",
       "1003.0     9\n",
       "1010.0     7\n",
       "1002.0     7\n",
       "1004.0     5\n",
       "Name: c1, dtype: int64"
      ]
     },
     "execution_count": 39,
     "metadata": {},
     "output_type": "execute_result"
    }
   ],
   "source": [
    "\"\"\" Verificando a frequencia dos valores únicos de C1 \"\"\"\n",
    "df.c1.value_counts()"
   ]
  },
  {
   "cell_type": "code",
   "execution_count": null,
   "metadata": {},
   "outputs": [],
   "source": []
  },
  {
   "cell_type": "code",
   "execution_count": null,
   "metadata": {},
   "outputs": [],
   "source": []
  }
 ],
 "metadata": {
  "kernelspec": {
   "display_name": "Python 3",
   "language": "python",
   "name": "python3"
  },
  "language_info": {
   "codemirror_mode": {
    "name": "ipython",
    "version": 3
   },
   "file_extension": ".py",
   "mimetype": "text/x-python",
   "name": "python",
   "nbconvert_exporter": "python",
   "pygments_lexer": "ipython3",
   "version": "3.6.4"
  }
 },
 "nbformat": 4,
 "nbformat_minor": 2
}
